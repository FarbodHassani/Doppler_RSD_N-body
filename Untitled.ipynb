{
 "cells": [
  {
   "cell_type": "code",
   "execution_count": 3,
   "metadata": {},
   "outputs": [
    {
     "name": "stdout",
     "output_type": "stream",
     "text": [
      "WARNING: Be careful that this is Pylians3 version for wCDM cosmologies and the Omega_DE and w_0 should be set by hand in readgadget.py! \n",
      " The values are: \n",
      "  w_0=  -0.9  Omega_fld= 0.6795289\n"
     ]
    }
   ],
   "source": [
    "\n",
    "w0=-0.9\n",
    "omega_fld=0.6795289\n",
    "# self.Hubble = 100.0*np.sqrt(self.omega_m*(1.0+self.redshift)**3+omega_fld*(1.0+self.redshift)**(3.0+3.0*w0))\n",
    "print('WARNING: Be careful that this is Pylians3 version for wCDM cosmologies and the Omega_DE and w_0 should be set by hand in readgadget.py! \\n', 'The values are: \\n  w_0= ',w0, ' Omega_fld=',omega_fld)\n"
   ]
  },
  {
   "cell_type": "code",
   "execution_count": null,
   "metadata": {},
   "outputs": [],
   "source": []
  }
 ],
 "metadata": {
  "kernelspec": {
   "display_name": "Python 3",
   "language": "python",
   "name": "python3"
  },
  "language_info": {
   "codemirror_mode": {
    "name": "ipython",
    "version": 3
   },
   "file_extension": ".py",
   "mimetype": "text/x-python",
   "name": "python",
   "nbconvert_exporter": "python",
   "pygments_lexer": "ipython3",
   "version": "3.7.4"
  }
 },
 "nbformat": 4,
 "nbformat_minor": 2
}
