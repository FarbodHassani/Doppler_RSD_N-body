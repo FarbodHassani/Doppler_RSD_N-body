{
 "cells": [
  {
   "cell_type": "code",
   "execution_count": null,
   "metadata": {},
   "outputs": [],
   "source": []
  },
  {
   "cell_type": "code",
   "execution_count": 1,
   "metadata": {
    "ExecuteTime": {
     "end_time": "2021-06-03T12:47:07.539839Z",
     "start_time": "2021-06-03T12:47:07.537502Z"
    }
   },
   "outputs": [],
   "source": [
    "# time:=Vector([ 9.700, 9.800, 9.900,10.000,10.100],datatype=float):\n",
    "# ydirection:=Vector([1,1.12283214737012,1.30458366482562,1.620163852697,2.44600619987792],datatype=float):\n",
    "# xdirection:=Vector([1,1.11507936507937,1.31615925058548,1.76175548589342,3.46913580246914],datatype=float):"
   ]
  },
  {
   "cell_type": "code",
   "execution_count": null,
   "metadata": {},
   "outputs": [],
   "source": [
    "# load input variables from a file\n",
    "time = [ 9.700, 9.800, 9.900,10.000,10.100]\n",
    "x_values = [1,1.12283214737012,1.30458366482562,1.620163852697,2.44600619987792]\n",
    "y_values = [1,1.11507936507937,1.31615925058548,1.76175548589342,3.46913580246914]"
   ]
  },
  {
   "cell_type": "code",
   "execution_count": 2,
   "metadata": {
    "ExecuteTime": {
     "end_time": "2021-06-03T12:47:49.838693Z",
     "start_time": "2021-06-03T12:47:49.835851Z"
    }
   },
   "outputs": [],
   "source": [
    "#  objective function\n",
    "def objective(x, a, b, c):\n",
    "    return a * x + b"
   ]
  },
  {
   "cell_type": "code",
   "execution_count": null,
   "metadata": {},
   "outputs": [],
   "source": []
  }
 ],
 "metadata": {
  "kernelspec": {
   "display_name": "Python 3",
   "language": "python",
   "name": "python3"
  },
  "language_info": {
   "codemirror_mode": {
    "name": "ipython",
    "version": 3
   },
   "file_extension": ".py",
   "mimetype": "text/x-python",
   "name": "python",
   "nbconvert_exporter": "python",
   "pygments_lexer": "ipython3",
   "version": "3.7.4"
  },
  "toc": {
   "base_numbering": 1,
   "nav_menu": {},
   "number_sections": true,
   "sideBar": true,
   "skip_h1_title": false,
   "title_cell": "Table of Contents",
   "title_sidebar": "Contents",
   "toc_cell": false,
   "toc_position": {},
   "toc_section_display": true,
   "toc_window_display": false
  }
 },
 "nbformat": 4,
 "nbformat_minor": 2
}
